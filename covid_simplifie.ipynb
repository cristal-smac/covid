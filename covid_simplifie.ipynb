{
 "cells": [
  {
   "cell_type": "markdown",
   "metadata": {},
   "source": [
    "# SMAC/CRISTAL/ULille\n",
    "\n",
    "Auteur : Philippe Mathieu, CRISTAL Lab, SMAC Team, University of Lille, email : philippe.mathieu@univ-lille.fr\n",
    "\n",
    "Date : 13 march 2020\n",
    "\n",
    "## Simulation of epidemics"
   ]
  },
  {
   "cell_type": "code",
   "execution_count": 1,
   "metadata": {},
   "outputs": [],
   "source": [
    "import pandas as pd\n",
    "import numpy as np\n",
    "import matplotlib.pyplot as plt\n",
    "from covid import *"
   ]
  },
  {
   "cell_type": "code",
   "execution_count": 2,
   "metadata": {},
   "outputs": [],
   "source": [
    "couleur_a='#396AB1'\n",
    "couleur_b='#DA7C30'\n",
    "dpi=300\n",
    "figsize = (10,5)"
   ]
  },
  {
   "cell_type": "markdown",
   "metadata": {},
   "source": [
    "# Un modèle S-I-(G/R)-M\n",
    "\n",
    "Les infectés se répartissent en Graves et Remis (somme de ces deux taux sensiblement équivalent aux remis de l'ancien modèle). Les Graves finissent soit Remis (taux) soit Morts (1-taux)."
   ]
  },
  {
   "cell_type": "code",
   "execution_count": 3,
   "metadata": {},
   "outputs": [],
   "source": [
    "data_nat = collecte_donnees()\n",
    "data_reg = collecte_donnees('regional')\n",
    "data_dep = collecte_donnees('departemental')"
   ]
  },
  {
   "cell_type": "markdown",
   "metadata": {},
   "source": [
    "## Evaluation nationale"
   ]
  },
  {
   "cell_type": "code",
   "execution_count": 4,
   "metadata": {},
   "outputs": [],
   "source": [
    "avant_confinement = data_nat.loc[:'2020-03-16'].shape[0]\n",
    "renforcement = data_nat.loc[:'2020-03-24'].shape[0]\n",
    "prolongement = data_nat.loc[:'2020-04-13'].shape[0]\n",
    "deconfinement = data_nat.loc[:'2020-05-11'].shape[0]\n",
    "aujourdhui = len(data_nat.index) - 1"
   ]
  },
  {
   "cell_type": "code",
   "execution_count": 55,
   "metadata": {},
   "outputs": [],
   "source": [
    "I=np.array(data_nat['cas_confirmes']/67000000)\n",
    "R=np.array(data_nat['gueris']/67000000)\n",
    "G=np.array(data_nat['reanimation']/67000000)\n",
    "M=np.array((data_nat['deces'])/67000000)\n",
    "#M=np.array((data['deces'] + data['deces_ehpad'])/67000000)\n",
    "\n",
    "S=[1]*len(data_nat.index) - I - G - R - M\n",
    "\n",
    "data_objectif = np.array([S, I, G, R, M])\n",
    "\n",
    "periodes_confinement = [avant_confinement, renforcement - avant_confinement, prolongement - renforcement, len(data_nat.index) - prolongement-1]\n",
    "\n",
    "tauxInfecteInitial = 20 * data_nat['cas_confirmes'][0]/67000000 # Ici on peut modifier pour s'écarter du chiffre officiel initial"
   ]
  },
  {
   "cell_type": "markdown",
   "metadata": {},
   "source": [
    "L'optimisation peut être lancée à l'aide de la commande suivante:"
   ]
  },
  {
   "cell_type": "code",
   "execution_count": 6,
   "metadata": {},
   "outputs": [],
   "source": [
    "#solution = optimisation_genetique(500, 1000, data_objectif, periodes_confinement, eval_SIGRM, nb_parametres=2)"
   ]
  },
  {
   "cell_type": "markdown",
   "metadata": {},
   "source": [
    "Comparaison graphique :"
   ]
  },
  {
   "cell_type": "code",
   "execution_count": 7,
   "metadata": {},
   "outputs": [],
   "source": [
    "#compare_solution_SIGRM(solution, data_objectif, periodes_confinement)"
   ]
  },
  {
   "cell_type": "markdown",
   "metadata": {},
   "source": [
    "## Solutions intéressantes"
   ]
  },
  {
   "cell_type": "code",
   "execution_count": 8,
   "metadata": {},
   "outputs": [],
   "source": [
    "def scenario(listeTaux, category=\"G\", label=None, linestyle='solid', color=couleur_b):\n",
    "    tauxInfecteInitial = candidat[-5] \n",
    "    tauxGraves = candidat[-4]\n",
    "    tauxRemis = candidat[-3]\n",
    "    tauxRemisGraves = candidat[-2]\n",
    "    tauxMortalite = candidat[-1]\n",
    "\n",
    "    S=[1 - tauxInfecteInitial]\n",
    "    I=[tauxInfecteInitial]\n",
    "    G=[0.0]\n",
    "    R=[0.0]\n",
    "    M=[0.0]\n",
    "\n",
    "    liste_taux = []\n",
    "    i = 0\n",
    "    for periode in periodes_confinement:\n",
    "        liste_taux = liste_taux + [candidat[i]] * periode\n",
    "        i += 1\n",
    "    SIGRM_increment(S, I, G, R, M, liste_taux, tauxRemis, tauxGraves, tauxRemisGraves, tauxMortalite)\n",
    "    SIGRM_increment(S, I, G, R, M, listeTaux, tauxRemis, tauxGraves, tauxRemisGraves, tauxMortalite)\n",
    "    if category == \"G\":\n",
    "        plt.plot(np.array(G)*67000000, label=label, color=color, linestyle=linestyle)\n",
    "    if category == \"M\":\n",
    "        plt.plot(np.array(M)*67000000, label=label, color=color, linestyle=linestyle)"
   ]
  },
  {
   "cell_type": "markdown",
   "metadata": {},
   "source": [
    "### Proposition du 06/05"
   ]
  },
  {
   "cell_type": "code",
   "execution_count": 9,
   "metadata": {},
   "outputs": [],
   "source": [
    "periodes_confinement = [avant_confinement, renforcement - avant_confinement, prolongement - renforcement, deconfinement - prolongement]\n",
    "candidat=[0.275372335146436, 0.38676389057705435, 0.08906800372536995, 0.10045712354211243, \n",
    "          data_nat['cas_confirmes'][0]/67000000, 0.07, 0.07, 0.011445165643347396, 0.06942900452349375]\n",
    "taux_intermediaire = (candidat[0] + candidat[3])/2"
   ]
  },
  {
   "cell_type": "markdown",
   "metadata": {},
   "source": [
    "Evolution du R0 :"
   ]
  },
  {
   "cell_type": "code",
   "execution_count": 10,
   "metadata": {},
   "outputs": [
    {
     "name": "stdout",
     "output_type": "stream",
     "text": [
      "1.9669452510459713\n",
      "2.762599218407531\n",
      "0.6362000266097853\n",
      "0.7175508824436602\n"
     ]
    }
   ],
   "source": [
    "print(candidat[0] / (candidat[5] + candidat[6]))\n",
    "print(candidat[1] / (candidat[5] + candidat[6]))\n",
    "print(candidat[2] / (candidat[5] + candidat[6]))\n",
    "print(candidat[3] / (candidat[5] + candidat[6]))"
   ]
  },
  {
   "cell_type": "code",
   "execution_count": 11,
   "metadata": {},
   "outputs": [],
   "source": [
    "tauxInfecteInitial = candidat[-5] \n",
    "tauxGraves = candidat[-4]\n",
    "tauxRemis = candidat[-3]\n",
    "tauxRemisGraves = candidat[-2]\n",
    "tauxMortalite = candidat[-1]\n",
    "\n",
    "S=[1 - tauxInfecteInitial]\n",
    "I=[tauxInfecteInitial]\n",
    "G=[0.0]\n",
    "R=[0.0]\n",
    "M=[0.0]\n",
    "\n",
    "liste_taux = []\n",
    "i = 0\n",
    "for periode in periodes_confinement:\n",
    "    liste_taux = liste_taux + [candidat[i]] * periode\n",
    "    i += 1"
   ]
  },
  {
   "cell_type": "code",
   "execution_count": 12,
   "metadata": {},
   "outputs": [],
   "source": [
    "SIGRM_increment(S, I, G, R, M, liste_taux, tauxRemis, tauxGraves, tauxRemisGraves, tauxMortalite)"
   ]
  },
  {
   "cell_type": "code",
   "execution_count": 13,
   "metadata": {},
   "outputs": [
    {
     "data": {
      "image/png": "[encoded data removed]",
      "text/plain": [
       "<Figure size 864x504 with 1 Axes>"
      ]
     },
     "metadata": {
      "needs_background": "light"
     },
     "output_type": "display_data"
    }
   ],
   "source": [
    "fig, ax = plt.subplots(figsize=(12,7))\n",
    "\n",
    "plt.plot(np.array(G)*67000000, label=\"Modèle (intermédiaire)\", color=couleur_a, linestyle=':')\n",
    "plt.plot(data_objectif[2]*67000000, label=\"Données réelles\", color=couleur_a)\n",
    "plt.plot(np.array(M)*67000000, label=\"Modèle (intermédiaire)\", color=couleur_b, linestyle=':')\n",
    "plt.plot(data_objectif[4]*67000000, label=\"Données réelles\", color=couleur_b)\n",
    "\n",
    "# Après confinement\n",
    "scenario([taux_intermediaire]*(aujourdhui - deconfinement+14), \"G\", \n",
    "         color=couleur_a, linestyle=':')\n",
    "scenario([taux_intermediaire]*(aujourdhui - deconfinement+14), \"M\", color=couleur_b, linestyle=':')\n",
    "\n",
    "plt.xticks([0, avant_confinement, prolongement, data_nat.loc[:'2020-05-05'].shape[0], deconfinement], \n",
    "           ('24/01', '17/03\\nConfinement', '13/04\\nProlongement', '05/05', '11/05'), rotation=0)\n",
    "\n",
    "plt.title(\"Estimation du nombre de lits en réa et du nombre de décès\")\n",
    "plt.legend()\n",
    "plt.grid()"
   ]
  },
  {
   "cell_type": "code",
   "execution_count": 14,
   "metadata": {},
   "outputs": [
    {
     "data": {
      "text/plain": [
       "0.07392257062500453"
      ]
     },
     "execution_count": 14,
     "metadata": {},
     "output_type": "execute_result"
    }
   ],
   "source": [
    "(R[-1] + I[-1] + G[-1] + M[-1]) *100"
   ]
  },
  {
   "cell_type": "markdown",
   "metadata": {},
   "source": [
    "# Matrices d'âge"
   ]
  },
  {
   "cell_type": "code",
   "execution_count": 62,
   "metadata": {},
   "outputs": [],
   "source": [
    "def SIGRM_age(S, I, G, R, M, matrice, population_vector, liste_tauxTransmiss, tauxRemis, tauxGraves, \n",
    "              tauxRemisGraves, tauxMortalite):\n",
    "\n",
    "    for tauxTransmiss in liste_tauxTransmiss:\n",
    "\n",
    "        nouveauxCas = tauxTransmiss*S[-1]*matrice.dot(I[-1]/population_vector)\n",
    "        nouveauxInfectesRemis=tauxRemis*I[-1]\n",
    "        nouveauxInfectesGraves=tauxGraves*I[-1]\n",
    "        nouveauxGravesRemis=tauxRemisGraves*G[-1]\n",
    "        nouveauxGravesMorts=tauxMortalite*G[-1]\n",
    "        \n",
    "        S = np.append(S, [S[-1]-nouveauxCas], axis=0) \n",
    "        I = np.append(I, [I[-1]+nouveauxCas-nouveauxInfectesRemis-nouveauxInfectesGraves], axis=0)\n",
    "        G = np.append(G, [G[-1]+nouveauxInfectesGraves-nouveauxGravesMorts-nouveauxGravesRemis], axis=0)\n",
    "        R = np.append(R, [R[-1]+nouveauxInfectesRemis+nouveauxGravesRemis], axis=0)\n",
    "        M = np.append(M, [M[-1]+nouveauxGravesMorts], axis=0)\n",
    "        #assert(round(S[-1]+I[-1]+G[-1]+R[-1]+M[-1],3) == 1) # la somme fait toujours 1\n",
    "        \n",
    "    return S, I, G, R, M"
   ]
  },
  {
   "cell_type": "code",
   "execution_count": 63,
   "metadata": {},
   "outputs": [],
   "source": [
    "tauxInfecteInitial = np.array([0.001, 0.001])\n",
    "tauxGraves = 0.05\n",
    "tauxRemis = 0.1\n",
    "tauxRemisGraves = 0.05\n",
    "tauxMortalite = 0.05\n",
    "\n",
    "matrice = np.array([[18, 9], [3, 12]])\n",
    "\n",
    "repartition = np.array([0.25, 0.75])\n",
    "\n",
    "population = 20000\n",
    "\n",
    "population_vector = np.array([0.25, 0.75]) * 2000\n",
    "\n",
    "\n",
    "S=[(1 - tauxInfecteInitial) * population_vector]\n",
    "I=[tauxInfecteInitial * population_vector]\n",
    "G=[tauxInfecteInitial*0]\n",
    "R=[tauxInfecteInitial*0]\n",
    "M=[tauxInfecteInitial*0]\n",
    "\n",
    "liste_taux = [0.02]*200"
   ]
  },
  {
   "cell_type": "code",
   "execution_count": 64,
   "metadata": {},
   "outputs": [
    {
     "data": {
      "text/plain": [
       "[array([ 499.5, 1498.5])]"
      ]
     },
     "execution_count": 64,
     "metadata": {},
     "output_type": "execute_result"
    }
   ],
   "source": [
    "S"
   ]
  },
  {
   "cell_type": "code",
   "execution_count": 65,
   "metadata": {},
   "outputs": [],
   "source": [
    "S, I, G, R, M = SIGRM_age(S, I, G, R, M, matrice, population_vector, liste_taux, tauxRemis, tauxGraves, tauxRemisGraves, tauxMortalite)"
   ]
  },
  {
   "cell_type": "code",
   "execution_count": 68,
   "metadata": {},
   "outputs": [
    {
     "data": {
      "text/plain": [
       "[<matplotlib.lines.Line2D at 0x7f98ceea7c88>,\n",
       " <matplotlib.lines.Line2D at 0x7f98ceea7dd8>]"
      ]
     },
     "execution_count": 68,
     "metadata": {},
     "output_type": "execute_result"
    },
    {
     "data": {
      "image/png": "[encoded data removed]",
      "text/plain": [
       "<Figure size 432x288 with 1 Axes>"
      ]
     },
     "metadata": {
      "needs_background": "light"
     },
     "output_type": "display_data"
    }
   ],
   "source": [
    "plt.plot(I)"
   ]
  },
  {
   "cell_type": "code",
   "execution_count": 24,
   "metadata": {},
   "outputs": [
    {
     "data": {
      "text/plain": [
       "[<matplotlib.lines.Line2D at 0x7f98cf073208>,\n",
       " <matplotlib.lines.Line2D at 0x7f98cf073358>]"
      ]
     },
     "execution_count": 24,
     "metadata": {},
     "output_type": "execute_result"
    },
    {
     "data": {
      "image/png": "[encoded data removed]",
      "text/plain": [
       "<Figure size 432x288 with 1 Axes>"
      ]
     },
     "metadata": {
      "needs_background": "light"
     },
     "output_type": "display_data"
    }
   ],
   "source": [
    "plt.plot(S)"
   ]
  },
  {
   "cell_type": "code",
   "execution_count": 25,
   "metadata": {
    "scrolled": true
   },
   "outputs": [
    {
     "data": {
      "text/plain": [
       "[<matplotlib.lines.Line2D at 0x7f98cf05eeb8>,\n",
       " <matplotlib.lines.Line2D at 0x7f98cf068048>]"
      ]
     },
     "execution_count": 25,
     "metadata": {},
     "output_type": "execute_result"
    },
    {
     "data": {
      "image/png": "[encoded data removed]",
      "text/plain": [
       "<Figure size 432x288 with 1 Axes>"
      ]
     },
     "metadata": {
      "needs_background": "light"
     },
     "output_type": "display_data"
    }
   ],
   "source": [
    "plt.plot(M)"
   ]
  },
  {
   "cell_type": "code",
   "execution_count": 71,
   "metadata": {},
   "outputs": [
    {
     "data": {
      "text/plain": [
       "[<matplotlib.lines.Line2D at 0x7f98ceaf1208>]"
      ]
     },
     "execution_count": 71,
     "metadata": {},
     "output_type": "execute_result"
    },
    {
     "data": {
      "image/png": "[encoded data removed]",
      "text/plain": [
       "<Figure size 432x288 with 1 Axes>"
      ]
     },
     "metadata": {
      "needs_background": "light"
     },
     "output_type": "display_data"
    }
   ],
   "source": [
    "plt.plot(M[:,0] + M[:,1])"
   ]
  },
  {
   "cell_type": "code",
   "execution_count": 26,
   "metadata": {},
   "outputs": [
    {
     "data": {
      "text/plain": [
       "[<matplotlib.lines.Line2D at 0x7f98cefc1c50>,\n",
       " <matplotlib.lines.Line2D at 0x7f98cefc1da0>]"
      ]
     },
     "execution_count": 26,
     "metadata": {},
     "output_type": "execute_result"
    },
    {
     "data": {
      "image/png": "[encoded data removed]",
      "text/plain": [
       "<Figure size 432x288 with 1 Axes>"
      ]
     },
     "metadata": {
      "needs_background": "light"
     },
     "output_type": "display_data"
    }
   ],
   "source": [
    "plt.plot(R)"
   ]
  },
  {
   "cell_type": "markdown",
   "metadata": {},
   "source": [
    "## Optimisation"
   ]
  },
  {
   "cell_type": "code",
   "execution_count": 51,
   "metadata": {},
   "outputs": [],
   "source": [
    "def eval_SIGRM_age(candidat, data_objectif, periodes_confinement, population=1, plot=False):\n",
    "    candidat = np.absolute(candidat)\n",
    "    tauxInfecteInitial = np.array([candidat[-5], candidat[-5]])\n",
    "    tauxGraves = candidat[-4]\n",
    "    tauxRemis = candidat[-3]\n",
    "    tauxRemisGraves = candidat[-2]\n",
    "    tauxMortalite = candidat[-1]\n",
    "    \n",
    "    # Paramètres fixes\n",
    "    #tauxRemis = 0.08\n",
    "    #tauxGraves = 0.07\n",
    "    #tauxInfecteInitial = 400/67000000\n",
    "\n",
    "    S=[(1 - tauxInfecteInitial) * population_vector]\n",
    "    I=[tauxInfecteInitial * population_vector]\n",
    "    G=[tauxInfecteInitial*0]\n",
    "    R=[tauxInfecteInitial*0]\n",
    "    M=[tauxInfecteInitial*0]\n",
    "\n",
    "    liste_taux = []\n",
    "    i = 0\n",
    "    for periode in periodes_confinement:\n",
    "        liste_taux = liste_taux + [candidat[i]] * periode\n",
    "        i += 1\n",
    "\n",
    "    S, I, G, R, M = SIGRM_age(S, I, G, R, M, matrice, population_vector, liste_taux, tauxRemis, tauxGraves, tauxRemisGraves, tauxMortalite)\n",
    "\n",
    "    if plot:\n",
    "        fig, ax = plt.subplots(figsize=(12,7))\n",
    "        plt.plot(data_objectif[2]*67000000, label=\"Graves (données)\")\n",
    "        plt.plot(np.array(G[:,0] + G[:,1])*67000000, label=\"Graves (estimation\")\n",
    "        plt.plot(data_objectif[4]*67000000, label=\"Morts (données)\")\n",
    "        plt.plot(np.array(M[:,0] + M[:,1])*67000000, label=\"Morts (estimation)\")\n",
    "        plt.legend()\n",
    "        plt.savefig(str(plot) +\".jpg\")\n",
    "\n",
    "    return np.linalg.norm(np.array([G[:,0] + G[:,1],M[:,0] + M[:,1]] ) - np.array([data_objectif[2],data_objectif[4]]) ),"
   ]
  },
  {
   "cell_type": "code",
   "execution_count": 56,
   "metadata": {},
   "outputs": [
    {
     "name": "stderr",
     "output_type": "stream",
     "text": [
      "/usr/local/lib/python3.6/dist-packages/ipykernel_launcher.py:6: RuntimeWarning: overflow encountered in multiply\n",
      "  \n",
      "/usr/local/lib/python3.6/dist-packages/ipykernel_launcher.py:13: RuntimeWarning: invalid value encountered in subtract\n",
      "  del sys.path[0]\n",
      "/usr/local/lib/python3.6/dist-packages/ipykernel_launcher.py:37: RuntimeWarning: invalid value encountered in add\n"
     ]
    },
    {
     "name": "stdout",
     "output_type": "stream",
     "text": [
      "gen\tnevals\tavg\tstd\tmin\tmax\n",
      "0  \t1000  \tnan\tnan\tnan\tnan\n",
      "1  \t590   \tnan\tnan\tnan\tnan\n",
      "2  \t645   \tnan\tnan\tnan\tnan\n",
      "3  \t601   \tnan\tnan\tnan\tnan\n",
      "4  \t548   \tnan\tnan\tnan\tnan\n",
      "5  \t610   \tnan\tnan\tnan\tnan\n",
      "6  \t610   \tnan\tnan\tnan\tnan\n",
      "7  \t596   \tnan\tnan\tnan\tnan\n",
      "8  \t578   \tnan\tnan\tnan\tnan\n",
      "9  \t605   \tnan\tnan\tnan\tnan\n",
      "10 \t583   \tnan\tnan\tnan\tnan\n",
      "11 \t549   \tnan\tnan\tnan\tnan\n",
      "12 \t621   \tnan\tnan\tnan\tnan\n",
      "13 \t601   \tnan\tnan\tnan\tnan\n",
      "14 \t602   \tnan\tnan\tnan\tnan\n",
      "15 \t596   \tnan\tnan\tnan\tnan\n",
      "16 \t621   \tnan\tnan\tnan\tnan\n",
      "17 \t611   \tnan\tnan\tnan\tnan\n",
      "18 \t615   \tnan\tnan\tnan\tnan\n",
      "19 \t596   \tnan\tnan\tnan\tnan\n",
      "20 \t608   \tnan\tnan\tnan\tnan\n"
     ]
    },
    {
     "ename": "KeyboardInterrupt",
     "evalue": "",
     "output_type": "error",
     "traceback": [
      "\u001b[0;31m---------------------------------------------------------------------------\u001b[0m",
      "\u001b[0;31mKeyboardInterrupt\u001b[0m                         Traceback (most recent call last)",
      "\u001b[0;32m<ipython-input-56-bb632de49776>\u001b[0m in \u001b[0;36m<module>\u001b[0;34m\u001b[0m\n\u001b[0;32m----> 1\u001b[0;31m \u001b[0mcandidat\u001b[0m \u001b[0;34m=\u001b[0m \u001b[0moptimisation_genetique\u001b[0m\u001b[0;34m(\u001b[0m\u001b[0;36m1000\u001b[0m\u001b[0;34m,\u001b[0m \u001b[0;36m500\u001b[0m\u001b[0;34m,\u001b[0m \u001b[0mdata_objectif\u001b[0m\u001b[0;34m,\u001b[0m \u001b[0mperiodes_confinement\u001b[0m\u001b[0;34m,\u001b[0m \u001b[0meval_SIGRM_age\u001b[0m\u001b[0;34m,\u001b[0m \u001b[0mnb_parametres\u001b[0m\u001b[0;34m=\u001b[0m\u001b[0mlen\u001b[0m\u001b[0;34m(\u001b[0m\u001b[0mperiodes_confinement\u001b[0m\u001b[0;34m)\u001b[0m\u001b[0;34m+\u001b[0m\u001b[0;36m5\u001b[0m\u001b[0;34m,\u001b[0m \u001b[0mverbose\u001b[0m\u001b[0;34m=\u001b[0m\u001b[0;32mTrue\u001b[0m\u001b[0;34m)\u001b[0m\u001b[0;34m\u001b[0m\u001b[0;34m\u001b[0m\u001b[0m\n\u001b[0m",
      "\u001b[0;32m~/covid (copy 1)/covid.py\u001b[0m in \u001b[0;36moptimisation_genetique\u001b[0;34m(n_indiv, n_gen, data_objectif, periodes_confinement, fonction_eval, nb_parametres, verbose)\u001b[0m\n\u001b[1;32m     73\u001b[0m \u001b[0;34m\u001b[0m\u001b[0m\n\u001b[1;32m     74\u001b[0m \tpop, log = algorithms.eaSimple(pop, toolbox, cxpb=0.5, mutpb=0.2, ngen=n_gen, \n\u001b[0;32m---> 75\u001b[0;31m \t\t\t\t\t\t\t\t   stats=stats, halloffame=hof, verbose=verbose)\n\u001b[0m\u001b[1;32m     76\u001b[0m         \u001b[0;32mreturn\u001b[0m \u001b[0mhof\u001b[0m\u001b[0;34m[\u001b[0m\u001b[0;36m0\u001b[0m\u001b[0;34m]\u001b[0m\u001b[0;34m\u001b[0m\u001b[0;34m\u001b[0m\u001b[0m\n\u001b[1;32m     77\u001b[0m \u001b[0;34m\u001b[0m\u001b[0m\n",
      "\u001b[0;32m~/.local/lib/python3.6/site-packages/deap/algorithms.py\u001b[0m in \u001b[0;36meaSimple\u001b[0;34m(population, toolbox, cxpb, mutpb, ngen, stats, halloffame, verbose)\u001b[0m\n\u001b[1;32m    171\u001b[0m         \u001b[0minvalid_ind\u001b[0m \u001b[0;34m=\u001b[0m \u001b[0;34m[\u001b[0m\u001b[0mind\u001b[0m \u001b[0;32mfor\u001b[0m \u001b[0mind\u001b[0m \u001b[0;32min\u001b[0m \u001b[0moffspring\u001b[0m \u001b[0;32mif\u001b[0m \u001b[0;32mnot\u001b[0m \u001b[0mind\u001b[0m\u001b[0;34m.\u001b[0m\u001b[0mfitness\u001b[0m\u001b[0;34m.\u001b[0m\u001b[0mvalid\u001b[0m\u001b[0;34m]\u001b[0m\u001b[0;34m\u001b[0m\u001b[0;34m\u001b[0m\u001b[0m\n\u001b[1;32m    172\u001b[0m         \u001b[0mfitnesses\u001b[0m \u001b[0;34m=\u001b[0m \u001b[0mtoolbox\u001b[0m\u001b[0;34m.\u001b[0m\u001b[0mmap\u001b[0m\u001b[0;34m(\u001b[0m\u001b[0mtoolbox\u001b[0m\u001b[0;34m.\u001b[0m\u001b[0mevaluate\u001b[0m\u001b[0;34m,\u001b[0m \u001b[0minvalid_ind\u001b[0m\u001b[0;34m)\u001b[0m\u001b[0;34m\u001b[0m\u001b[0;34m\u001b[0m\u001b[0m\n\u001b[0;32m--> 173\u001b[0;31m         \u001b[0;32mfor\u001b[0m \u001b[0mind\u001b[0m\u001b[0;34m,\u001b[0m \u001b[0mfit\u001b[0m \u001b[0;32min\u001b[0m \u001b[0mzip\u001b[0m\u001b[0;34m(\u001b[0m\u001b[0minvalid_ind\u001b[0m\u001b[0;34m,\u001b[0m \u001b[0mfitnesses\u001b[0m\u001b[0;34m)\u001b[0m\u001b[0;34m:\u001b[0m\u001b[0;34m\u001b[0m\u001b[0;34m\u001b[0m\u001b[0m\n\u001b[0m\u001b[1;32m    174\u001b[0m             \u001b[0mind\u001b[0m\u001b[0;34m.\u001b[0m\u001b[0mfitness\u001b[0m\u001b[0;34m.\u001b[0m\u001b[0mvalues\u001b[0m \u001b[0;34m=\u001b[0m \u001b[0mfit\u001b[0m\u001b[0;34m\u001b[0m\u001b[0;34m\u001b[0m\u001b[0m\n\u001b[1;32m    175\u001b[0m \u001b[0;34m\u001b[0m\u001b[0m\n",
      "\u001b[0;32m<ipython-input-51-7a1c6033e07e>\u001b[0m in \u001b[0;36meval_SIGRM_age\u001b[0;34m(candidat, data_objectif, periodes_confinement, population, plot)\u001b[0m\n\u001b[1;32m     24\u001b[0m         \u001b[0mi\u001b[0m \u001b[0;34m+=\u001b[0m \u001b[0;36m1\u001b[0m\u001b[0;34m\u001b[0m\u001b[0;34m\u001b[0m\u001b[0m\n\u001b[1;32m     25\u001b[0m \u001b[0;34m\u001b[0m\u001b[0m\n\u001b[0;32m---> 26\u001b[0;31m     \u001b[0mS\u001b[0m\u001b[0;34m,\u001b[0m \u001b[0mI\u001b[0m\u001b[0;34m,\u001b[0m \u001b[0mG\u001b[0m\u001b[0;34m,\u001b[0m \u001b[0mR\u001b[0m\u001b[0;34m,\u001b[0m \u001b[0mM\u001b[0m \u001b[0;34m=\u001b[0m \u001b[0mSIGRM_age\u001b[0m\u001b[0;34m(\u001b[0m\u001b[0mS\u001b[0m\u001b[0;34m,\u001b[0m \u001b[0mI\u001b[0m\u001b[0;34m,\u001b[0m \u001b[0mG\u001b[0m\u001b[0;34m,\u001b[0m \u001b[0mR\u001b[0m\u001b[0;34m,\u001b[0m \u001b[0mM\u001b[0m\u001b[0;34m,\u001b[0m \u001b[0mmatrice\u001b[0m\u001b[0;34m,\u001b[0m \u001b[0mpopulation_vector\u001b[0m\u001b[0;34m,\u001b[0m \u001b[0mliste_taux\u001b[0m\u001b[0;34m,\u001b[0m \u001b[0mtauxRemis\u001b[0m\u001b[0;34m,\u001b[0m \u001b[0mtauxGraves\u001b[0m\u001b[0;34m,\u001b[0m \u001b[0mtauxRemisGraves\u001b[0m\u001b[0;34m,\u001b[0m \u001b[0mtauxMortalite\u001b[0m\u001b[0;34m)\u001b[0m\u001b[0;34m\u001b[0m\u001b[0;34m\u001b[0m\u001b[0m\n\u001b[0m\u001b[1;32m     27\u001b[0m \u001b[0;34m\u001b[0m\u001b[0m\n\u001b[1;32m     28\u001b[0m     \u001b[0;32mif\u001b[0m \u001b[0mplot\u001b[0m\u001b[0;34m:\u001b[0m\u001b[0;34m\u001b[0m\u001b[0;34m\u001b[0m\u001b[0m\n",
      "\u001b[0;32m<ipython-input-20-b59a3edf6db8>\u001b[0m in \u001b[0;36mSIGRM_age\u001b[0;34m(S, I, G, R, M, matrice, population_vector, liste_tauxTransmiss, tauxRemis, tauxGraves, tauxRemisGraves, tauxMortalite)\u001b[0m\n\u001b[1;32m     11\u001b[0m \u001b[0;34m\u001b[0m\u001b[0m\n\u001b[1;32m     12\u001b[0m         \u001b[0mS\u001b[0m \u001b[0;34m=\u001b[0m \u001b[0mnp\u001b[0m\u001b[0;34m.\u001b[0m\u001b[0mappend\u001b[0m\u001b[0;34m(\u001b[0m\u001b[0mS\u001b[0m\u001b[0;34m,\u001b[0m \u001b[0;34m[\u001b[0m\u001b[0mS\u001b[0m\u001b[0;34m[\u001b[0m\u001b[0;34m-\u001b[0m\u001b[0;36m1\u001b[0m\u001b[0;34m]\u001b[0m\u001b[0;34m-\u001b[0m\u001b[0mnouveauxCas\u001b[0m\u001b[0;34m]\u001b[0m\u001b[0;34m,\u001b[0m \u001b[0maxis\u001b[0m\u001b[0;34m=\u001b[0m\u001b[0;36m0\u001b[0m\u001b[0;34m)\u001b[0m\u001b[0;34m\u001b[0m\u001b[0;34m\u001b[0m\u001b[0m\n\u001b[0;32m---> 13\u001b[0;31m         \u001b[0mI\u001b[0m \u001b[0;34m=\u001b[0m \u001b[0mnp\u001b[0m\u001b[0;34m.\u001b[0m\u001b[0mappend\u001b[0m\u001b[0;34m(\u001b[0m\u001b[0mI\u001b[0m\u001b[0;34m,\u001b[0m \u001b[0;34m[\u001b[0m\u001b[0mI\u001b[0m\u001b[0;34m[\u001b[0m\u001b[0;34m-\u001b[0m\u001b[0;36m1\u001b[0m\u001b[0;34m]\u001b[0m\u001b[0;34m+\u001b[0m\u001b[0mnouveauxCas\u001b[0m\u001b[0;34m-\u001b[0m\u001b[0mnouveauxInfectesRemis\u001b[0m\u001b[0;34m-\u001b[0m\u001b[0mnouveauxInfectesGraves\u001b[0m\u001b[0;34m]\u001b[0m\u001b[0;34m,\u001b[0m \u001b[0maxis\u001b[0m\u001b[0;34m=\u001b[0m\u001b[0;36m0\u001b[0m\u001b[0;34m)\u001b[0m\u001b[0;34m\u001b[0m\u001b[0;34m\u001b[0m\u001b[0m\n\u001b[0m\u001b[1;32m     14\u001b[0m         \u001b[0mG\u001b[0m \u001b[0;34m=\u001b[0m \u001b[0mnp\u001b[0m\u001b[0;34m.\u001b[0m\u001b[0mappend\u001b[0m\u001b[0;34m(\u001b[0m\u001b[0mG\u001b[0m\u001b[0;34m,\u001b[0m \u001b[0;34m[\u001b[0m\u001b[0mG\u001b[0m\u001b[0;34m[\u001b[0m\u001b[0;34m-\u001b[0m\u001b[0;36m1\u001b[0m\u001b[0;34m]\u001b[0m\u001b[0;34m+\u001b[0m\u001b[0mnouveauxInfectesGraves\u001b[0m\u001b[0;34m-\u001b[0m\u001b[0mnouveauxGravesMorts\u001b[0m\u001b[0;34m-\u001b[0m\u001b[0mnouveauxGravesRemis\u001b[0m\u001b[0;34m]\u001b[0m\u001b[0;34m,\u001b[0m \u001b[0maxis\u001b[0m\u001b[0;34m=\u001b[0m\u001b[0;36m0\u001b[0m\u001b[0;34m)\u001b[0m\u001b[0;34m\u001b[0m\u001b[0;34m\u001b[0m\u001b[0m\n\u001b[1;32m     15\u001b[0m         \u001b[0mR\u001b[0m \u001b[0;34m=\u001b[0m \u001b[0mnp\u001b[0m\u001b[0;34m.\u001b[0m\u001b[0mappend\u001b[0m\u001b[0;34m(\u001b[0m\u001b[0mR\u001b[0m\u001b[0;34m,\u001b[0m \u001b[0;34m[\u001b[0m\u001b[0mR\u001b[0m\u001b[0;34m[\u001b[0m\u001b[0;34m-\u001b[0m\u001b[0;36m1\u001b[0m\u001b[0;34m]\u001b[0m\u001b[0;34m+\u001b[0m\u001b[0mnouveauxInfectesRemis\u001b[0m\u001b[0;34m+\u001b[0m\u001b[0mnouveauxGravesRemis\u001b[0m\u001b[0;34m]\u001b[0m\u001b[0;34m,\u001b[0m \u001b[0maxis\u001b[0m\u001b[0;34m=\u001b[0m\u001b[0;36m0\u001b[0m\u001b[0;34m)\u001b[0m\u001b[0;34m\u001b[0m\u001b[0;34m\u001b[0m\u001b[0m\n",
      "\u001b[0;31mKeyboardInterrupt\u001b[0m: "
     ]
    }
   ],
   "source": [
    "candidat = optimisation_genetique(1000, 500, data_objectif, periodes_confinement, eval_SIGRM_age, nb_parametres=len(periodes_confinement)+5, verbose=True)"
   ]
  },
  {
   "cell_type": "code",
   "execution_count": 54,
   "metadata": {},
   "outputs": [
    {
     "data": {
      "text/plain": [
       "[array([0., 0.])]"
      ]
     },
     "execution_count": 54,
     "metadata": {},
     "output_type": "execute_result"
    }
   ],
   "source": [
    "G"
   ]
  },
  {
   "cell_type": "code",
   "execution_count": null,
   "metadata": {},
   "outputs": [],
   "source": []
  }
 ],
 "metadata": {
  "kernelspec": {
   "display_name": "Python 3",
   "language": "python",
   "name": "python3"
  },
  "language_info": {
   "codemirror_mode": {
    "name": "ipython",
    "version": 3
   },
   "file_extension": ".py",
   "mimetype": "text/x-python",
   "name": "python",
   "nbconvert_exporter": "python",
   "pygments_lexer": "ipython3",
   "version": "3.6.9"
  }
 },
 "nbformat": 4,
 "nbformat_minor": 2
}
